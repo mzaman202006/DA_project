{
  "nbformat": 4,
  "nbformat_minor": 0,
  "metadata": {
    "colab": {
      "name": "TFIDF.ipynb",
      "provenance": [],
      "authorship_tag": "ABX9TyNt27i67PFnLCtCe6kFdxV4",
      "include_colab_link": true
    },
    "kernelspec": {
      "name": "python3",
      "display_name": "Python 3"
    },
    "language_info": {
      "name": "python"
    }
  },
  "cells": [
    {
      "cell_type": "markdown",
      "metadata": {
        "id": "view-in-github",
        "colab_type": "text"
      },
      "source": [
        "<a href=\"https://colab.research.google.com/github/mzaman202006/DA_project/blob/main/TFIDF.ipynb\" target=\"_parent\"><img src=\"https://colab.research.google.com/assets/colab-badge.svg\" alt=\"Open In Colab\"/></a>"
      ]
    },
    {
      "cell_type": "code",
      "metadata": {
        "id": "p-zIrfu1ODSi"
      },
      "source": [
        "#importing libraries\n",
        "import pandas as pd\n",
        "import numpy as np\n",
        "import seaborn as sns\n",
        "from sklearn.model_selection import train_test_split\n",
        "import warnings\n",
        "warnings.filterwarnings(action=\"ignore\")\n",
        "import tensorflow as tf"
      ],
      "execution_count": null,
      "outputs": []
    },
    {
      "cell_type": "code",
      "metadata": {
        "colab": {
          "base_uri": "https://localhost:8080/"
        },
        "id": "nxCYjvwwOSFH",
        "outputId": "cfff85c9-9ba0-4c7f-da7c-af72331f1890"
      },
      "source": [
        "from google.colab import drive\n",
        "# This will prompt for authorization.\n",
        "drive.mount('/content/drive')"
      ],
      "execution_count": null,
      "outputs": [
        {
          "output_type": "stream",
          "text": [
            "Mounted at /content/drive\n"
          ],
          "name": "stdout"
        }
      ]
    },
    {
      "cell_type": "code",
      "metadata": {
        "colab": {
          "base_uri": "https://localhost:8080/",
          "height": 362
        },
        "id": "2K_kSyWIOIhS",
        "outputId": "ad34e4bf-e78a-4c2d-a1e8-aca33d76c993"
      },
      "source": [
        "df = pd.read_excel('/content/drive/MyDrive/CSE 6207 (N) : Data Analytics/Final/Data/IMDB.xlsx', sheet_name='All')\n",
        "df['REVIEW'] =  df['REVIEW'].str.lower()\n",
        "\n",
        "df.head(10)"
      ],
      "execution_count": null,
      "outputs": [
        {
          "output_type": "execute_result",
          "data": {
            "text/html": [
              "<div>\n",
              "<style scoped>\n",
              "    .dataframe tbody tr th:only-of-type {\n",
              "        vertical-align: middle;\n",
              "    }\n",
              "\n",
              "    .dataframe tbody tr th {\n",
              "        vertical-align: top;\n",
              "    }\n",
              "\n",
              "    .dataframe thead th {\n",
              "        text-align: right;\n",
              "    }\n",
              "</style>\n",
              "<table border=\"1\" class=\"dataframe\">\n",
              "  <thead>\n",
              "    <tr style=\"text-align: right;\">\n",
              "      <th></th>\n",
              "      <th>REVIEW</th>\n",
              "      <th>SENTIMENT</th>\n",
              "    </tr>\n",
              "  </thead>\n",
              "  <tbody>\n",
              "    <tr>\n",
              "      <th>0</th>\n",
              "      <td>its somewhat ironic that a movie about time tr...</td>\n",
              "      <td>Neutral</td>\n",
              "    </tr>\n",
              "    <tr>\n",
              "      <th>1</th>\n",
              "      <td>well, i've always known i was a little slow to...</td>\n",
              "      <td>Negative</td>\n",
              "    </tr>\n",
              "    <tr>\n",
              "      <th>2</th>\n",
              "      <td>a man on an international mission to save the ...</td>\n",
              "      <td>Negative</td>\n",
              "    </tr>\n",
              "    <tr>\n",
              "      <th>3</th>\n",
              "      <td>as the first scene of tenet came to an end, i ...</td>\n",
              "      <td>Negative</td>\n",
              "    </tr>\n",
              "    <tr>\n",
              "      <th>4</th>\n",
              "      <td>its one hell of a complicated film. it will be...</td>\n",
              "      <td>Positive</td>\n",
              "    </tr>\n",
              "    <tr>\n",
              "      <th>5</th>\n",
              "      <td>i have honestly never felt so confused after w...</td>\n",
              "      <td>Negative</td>\n",
              "    </tr>\n",
              "    <tr>\n",
              "      <th>6</th>\n",
              "      <td>background music is so loud, and most of the a...</td>\n",
              "      <td>Negative</td>\n",
              "    </tr>\n",
              "    <tr>\n",
              "      <th>7</th>\n",
              "      <td>listen we all know nolan swings for the fences...</td>\n",
              "      <td>Negative</td>\n",
              "    </tr>\n",
              "    <tr>\n",
              "      <th>8</th>\n",
              "      <td>i am a big nolan and sci-fi fan, and there's n...</td>\n",
              "      <td>Negative</td>\n",
              "    </tr>\n",
              "    <tr>\n",
              "      <th>9</th>\n",
              "      <td>on paper, tenet should have been as good as in...</td>\n",
              "      <td>Negative</td>\n",
              "    </tr>\n",
              "  </tbody>\n",
              "</table>\n",
              "</div>"
            ],
            "text/plain": [
              "                                              REVIEW SENTIMENT\n",
              "0  its somewhat ironic that a movie about time tr...   Neutral\n",
              "1  well, i've always known i was a little slow to...  Negative\n",
              "2  a man on an international mission to save the ...  Negative\n",
              "3  as the first scene of tenet came to an end, i ...  Negative\n",
              "4  its one hell of a complicated film. it will be...  Positive\n",
              "5  i have honestly never felt so confused after w...  Negative\n",
              "6  background music is so loud, and most of the a...  Negative\n",
              "7  listen we all know nolan swings for the fences...  Negative\n",
              "8  i am a big nolan and sci-fi fan, and there's n...  Negative\n",
              "9  on paper, tenet should have been as good as in...  Negative"
            ]
          },
          "metadata": {
            "tags": []
          },
          "execution_count": 6
        }
      ]
    },
    {
      "cell_type": "code",
      "metadata": {
        "colab": {
          "base_uri": "https://localhost:8080/",
          "height": 424
        },
        "id": "wKRdT9ySO2hJ",
        "outputId": "fda179c4-f6b2-4cc4-91cf-de6fa2044ad6"
      },
      "source": [
        "# Encoding Sentiment column\n",
        "from sklearn.preprocessing import LabelEncoder\n",
        "le = LabelEncoder()\n",
        "df[\"SENTIMENT\"] = le.fit_transform(df[\"SENTIMENT\"])\n",
        "df.head(100)"
      ],
      "execution_count": null,
      "outputs": [
        {
          "output_type": "execute_result",
          "data": {
            "text/html": [
              "<div>\n",
              "<style scoped>\n",
              "    .dataframe tbody tr th:only-of-type {\n",
              "        vertical-align: middle;\n",
              "    }\n",
              "\n",
              "    .dataframe tbody tr th {\n",
              "        vertical-align: top;\n",
              "    }\n",
              "\n",
              "    .dataframe thead th {\n",
              "        text-align: right;\n",
              "    }\n",
              "</style>\n",
              "<table border=\"1\" class=\"dataframe\">\n",
              "  <thead>\n",
              "    <tr style=\"text-align: right;\">\n",
              "      <th></th>\n",
              "      <th>REVIEW</th>\n",
              "      <th>SENTIMENT</th>\n",
              "    </tr>\n",
              "  </thead>\n",
              "  <tbody>\n",
              "    <tr>\n",
              "      <th>0</th>\n",
              "      <td>its somewhat ironic that a movie about time tr...</td>\n",
              "      <td>1</td>\n",
              "    </tr>\n",
              "    <tr>\n",
              "      <th>1</th>\n",
              "      <td>well, i've always known i was a little slow to...</td>\n",
              "      <td>0</td>\n",
              "    </tr>\n",
              "    <tr>\n",
              "      <th>2</th>\n",
              "      <td>a man on an international mission to save the ...</td>\n",
              "      <td>0</td>\n",
              "    </tr>\n",
              "    <tr>\n",
              "      <th>3</th>\n",
              "      <td>as the first scene of tenet came to an end, i ...</td>\n",
              "      <td>0</td>\n",
              "    </tr>\n",
              "    <tr>\n",
              "      <th>4</th>\n",
              "      <td>its one hell of a complicated film. it will be...</td>\n",
              "      <td>2</td>\n",
              "    </tr>\n",
              "    <tr>\n",
              "      <th>...</th>\n",
              "      <td>...</td>\n",
              "      <td>...</td>\n",
              "    </tr>\n",
              "    <tr>\n",
              "      <th>95</th>\n",
              "      <td>great movie, a real love story! exciting and v...</td>\n",
              "      <td>2</td>\n",
              "    </tr>\n",
              "    <tr>\n",
              "      <th>96</th>\n",
              "      <td>i simply loved this movie. the acting was supe...</td>\n",
              "      <td>2</td>\n",
              "    </tr>\n",
              "    <tr>\n",
              "      <th>97</th>\n",
              "      <td>ok so some reviewers have downgraded it for th...</td>\n",
              "      <td>2</td>\n",
              "    </tr>\n",
              "    <tr>\n",
              "      <th>98</th>\n",
              "      <td>well this movie has good costumes, scenery, an...</td>\n",
              "      <td>0</td>\n",
              "    </tr>\n",
              "    <tr>\n",
              "      <th>99</th>\n",
              "      <td>in a certain sense, it's tough for me to be al...</td>\n",
              "      <td>1</td>\n",
              "    </tr>\n",
              "  </tbody>\n",
              "</table>\n",
              "<p>100 rows × 2 columns</p>\n",
              "</div>"
            ],
            "text/plain": [
              "                                               REVIEW  SENTIMENT\n",
              "0   its somewhat ironic that a movie about time tr...          1\n",
              "1   well, i've always known i was a little slow to...          0\n",
              "2   a man on an international mission to save the ...          0\n",
              "3   as the first scene of tenet came to an end, i ...          0\n",
              "4   its one hell of a complicated film. it will be...          2\n",
              "..                                                ...        ...\n",
              "95  great movie, a real love story! exciting and v...          2\n",
              "96  i simply loved this movie. the acting was supe...          2\n",
              "97  ok so some reviewers have downgraded it for th...          2\n",
              "98  well this movie has good costumes, scenery, an...          0\n",
              "99  in a certain sense, it's tough for me to be al...          1\n",
              "\n",
              "[100 rows x 2 columns]"
            ]
          },
          "metadata": {
            "tags": []
          },
          "execution_count": 8
        }
      ]
    },
    {
      "cell_type": "code",
      "metadata": {
        "colab": {
          "base_uri": "https://localhost:8080/"
        },
        "id": "3k0vvXlzPDhv",
        "outputId": "083aacca-653d-4b8d-972a-5c16e90b963e"
      },
      "source": [
        "df.SENTIMENT.unique()"
      ],
      "execution_count": null,
      "outputs": [
        {
          "output_type": "execute_result",
          "data": {
            "text/plain": [
              "array([1, 0, 2])"
            ]
          },
          "metadata": {
            "tags": []
          },
          "execution_count": 10
        }
      ]
    },
    {
      "cell_type": "code",
      "metadata": {
        "colab": {
          "base_uri": "https://localhost:8080/",
          "height": 296
        },
        "id": "gX_-A07lO8ff",
        "outputId": "8ba47258-617f-44da-8739-f1c0861fb2ff"
      },
      "source": [
        "sns.countplot(df[\"SENTIMENT\"])"
      ],
      "execution_count": null,
      "outputs": [
        {
          "output_type": "execute_result",
          "data": {
            "text/plain": [
              "<matplotlib.axes._subplots.AxesSubplot at 0x7f05a0a700d0>"
            ]
          },
          "metadata": {
            "tags": []
          },
          "execution_count": 11
        },
        {
          "output_type": "display_data",
          "data": {
            "image/png": "[encoded data removed]",
            "text/plain": [
              "<Figure size 432x288 with 1 Axes>"
            ]
          },
          "metadata": {
            "tags": [],
            "needs_background": "light"
          }
        }
      ]
    },
    {
      "cell_type": "code",
      "metadata": {
        "colab": {
          "base_uri": "https://localhost:8080/"
        },
        "id": "OrjLfOOKPSI6",
        "outputId": "647d476d-1b97-431b-e802-96fe784b5732"
      },
      "source": [
        "df[\"SENTIMENT\"].value_counts()"
      ],
      "execution_count": null,
      "outputs": [
        {
          "output_type": "execute_result",
          "data": {
            "text/plain": [
              "2    474\n",
              "0    418\n",
              "1    225\n",
              "Name: SENTIMENT, dtype: int64"
            ]
          },
          "metadata": {
            "tags": []
          },
          "execution_count": 12
        }
      ]
    },
    {
      "cell_type": "markdown",
      "metadata": {
        "id": "VqA1myilPuOP"
      },
      "source": [
        "# creating function for cleaning data"
      ]
    },
    {
      "cell_type": "code",
      "metadata": {
        "id": "ky9ABHKIPo4n"
      },
      "source": [
        "\n",
        "def standardize_text(df, content_field):\n",
        "    df[content_field] = df[content_field].str.replace(r\"http\\S+\", \"\")\n",
        "    df[content_field] = df[content_field].str.replace(r\"http\", \"\")\n",
        "    df[content_field] = df[content_field].str.replace(r\"@\\S+\", \"\")\n",
        "    df[content_field] = df[content_field].str.replace(r\"[^A-Za-z0-9(),!?@\\'\\`\\\"\\_\\n]\", \" \")\n",
        "    df[content_field] = df[content_field].str.replace(r\"@\", \"at\")\n",
        "    df[content_field] = df[content_field].str.lower()\n",
        "    return df"
      ],
      "execution_count": null,
      "outputs": []
    },
    {
      "cell_type": "code",
      "metadata": {
        "colab": {
          "base_uri": "https://localhost:8080/",
          "height": 424
        },
        "id": "K6UK9tF7P2u4",
        "outputId": "4d1f0d74-11f2-4985-8b65-76ece049c383"
      },
      "source": [
        "standardize_text(df,\"REVIEW\")"
      ],
      "execution_count": null,
      "outputs": [
        {
          "output_type": "execute_result",
          "data": {
            "text/html": [
              "<div>\n",
              "<style scoped>\n",
              "    .dataframe tbody tr th:only-of-type {\n",
              "        vertical-align: middle;\n",
              "    }\n",
              "\n",
              "    .dataframe tbody tr th {\n",
              "        vertical-align: top;\n",
              "    }\n",
              "\n",
              "    .dataframe thead th {\n",
              "        text-align: right;\n",
              "    }\n",
              "</style>\n",
              "<table border=\"1\" class=\"dataframe\">\n",
              "  <thead>\n",
              "    <tr style=\"text-align: right;\">\n",
              "      <th></th>\n",
              "      <th>REVIEW</th>\n",
              "      <th>SENTIMENT</th>\n",
              "    </tr>\n",
              "  </thead>\n",
              "  <tbody>\n",
              "    <tr>\n",
              "      <th>0</th>\n",
              "      <td>its somewhat ironic that a movie about time tr...</td>\n",
              "      <td>1</td>\n",
              "    </tr>\n",
              "    <tr>\n",
              "      <th>1</th>\n",
              "      <td>well, i've always known i was a little slow to...</td>\n",
              "      <td>0</td>\n",
              "    </tr>\n",
              "    <tr>\n",
              "      <th>2</th>\n",
              "      <td>a man on an international mission to save the ...</td>\n",
              "      <td>0</td>\n",
              "    </tr>\n",
              "    <tr>\n",
              "      <th>3</th>\n",
              "      <td>as the first scene of tenet came to an end, i ...</td>\n",
              "      <td>0</td>\n",
              "    </tr>\n",
              "    <tr>\n",
              "      <th>4</th>\n",
              "      <td>its one hell of a complicated film  it will be...</td>\n",
              "      <td>2</td>\n",
              "    </tr>\n",
              "    <tr>\n",
              "      <th>...</th>\n",
              "      <td>...</td>\n",
              "      <td>...</td>\n",
              "    </tr>\n",
              "    <tr>\n",
              "      <th>1112</th>\n",
              "      <td>when i see that nicolas cage appears in the ca...</td>\n",
              "      <td>1</td>\n",
              "    </tr>\n",
              "    <tr>\n",
              "      <th>1113</th>\n",
              "      <td>even cage's acting is bad compared to his prev...</td>\n",
              "      <td>0</td>\n",
              "    </tr>\n",
              "    <tr>\n",
              "      <th>1114</th>\n",
              "      <td>light entertainment to full a 90 minute gap, n...</td>\n",
              "      <td>1</td>\n",
              "    </tr>\n",
              "    <tr>\n",
              "      <th>1115</th>\n",
              "      <td>first negative was that there are no subtitles...</td>\n",
              "      <td>0</td>\n",
              "    </tr>\n",
              "    <tr>\n",
              "      <th>1116</th>\n",
              "      <td>bad acting, still love nicolas cage, director ...</td>\n",
              "      <td>1</td>\n",
              "    </tr>\n",
              "  </tbody>\n",
              "</table>\n",
              "<p>1117 rows × 2 columns</p>\n",
              "</div>"
            ],
            "text/plain": [
              "                                                 REVIEW  SENTIMENT\n",
              "0     its somewhat ironic that a movie about time tr...          1\n",
              "1     well, i've always known i was a little slow to...          0\n",
              "2     a man on an international mission to save the ...          0\n",
              "3     as the first scene of tenet came to an end, i ...          0\n",
              "4     its one hell of a complicated film  it will be...          2\n",
              "...                                                 ...        ...\n",
              "1112  when i see that nicolas cage appears in the ca...          1\n",
              "1113  even cage's acting is bad compared to his prev...          0\n",
              "1114  light entertainment to full a 90 minute gap, n...          1\n",
              "1115  first negative was that there are no subtitles...          0\n",
              "1116  bad acting, still love nicolas cage, director ...          1\n",
              "\n",
              "[1117 rows x 2 columns]"
            ]
          },
          "metadata": {
            "tags": []
          },
          "execution_count": 14
        }
      ]
    },
    {
      "cell_type": "code",
      "metadata": {
        "colab": {
          "base_uri": "https://localhost:8080/"
        },
        "id": "CNJSH7x8P7H2",
        "outputId": "65fdacc9-7e1e-4912-deae-ad2cd4106573"
      },
      "source": [
        "# importing libraries for bag of words model\n",
        "import re\n",
        "import string\n",
        "import nltk\n",
        "nltk.download('stopwords')\n",
        "from nltk.corpus import stopwords\n",
        "from nltk.stem.wordnet import WordNetLemmatizer"
      ],
      "execution_count": null,
      "outputs": [
        {
          "output_type": "stream",
          "text": [
            "[nltk_data] Downloading package stopwords to /root/nltk_data...\n",
            "[nltk_data]   Unzipping corpora/stopwords.zip.\n"
          ],
          "name": "stdout"
        }
      ]
    },
    {
      "cell_type": "code",
      "metadata": {
        "colab": {
          "base_uri": "https://localhost:8080/"
        },
        "id": "qT_gSwM1Q00B",
        "outputId": "fcd6c37c-1df6-4f41-b659-879d4122e144"
      },
      "source": [
        "nltk.download('wordnet')"
      ],
      "execution_count": null,
      "outputs": [
        {
          "output_type": "stream",
          "text": [
            "[nltk_data] Downloading package wordnet to /root/nltk_data...\n",
            "[nltk_data]   Unzipping corpora/wordnet.zip.\n"
          ],
          "name": "stdout"
        },
        {
          "output_type": "execute_result",
          "data": {
            "text/plain": [
              "True"
            ]
          },
          "metadata": {
            "tags": []
          },
          "execution_count": 17
        }
      ]
    },
    {
      "cell_type": "code",
      "metadata": {
        "id": "N9k2xJoYQUhA"
      },
      "source": [
        "lemmatizer=WordNetLemmatizer()\n",
        "corpus = []\n",
        "for i in range(0,len(df)):\n",
        "    review = re.sub('[^a-zA-Z]', ' ', df['REVIEW'][i])\n",
        "    review = review.split()\n",
        "    review=[word for word in review if not word in set(stopwords.words('english'))]\n",
        "    review = [lemmatizer.lemmatize(word) for word in review]\n",
        "    review=' '.join(review)\n",
        "    corpus.append(review)"
      ],
      "execution_count": null,
      "outputs": []
    },
    {
      "cell_type": "code",
      "metadata": {
        "id": "sxyKDiOocQPq"
      },
      "source": [
        "#applying tfidf on corpus\n",
        "from sklearn.feature_extraction.text import TfidfVectorizer\n",
        "tfidf = TfidfVectorizer(ngram_range=(1, 3))\n",
        "X = tfidf.fit_transform(corpus)\n",
        "y = df[\"SENTIMENT\"]"
      ],
      "execution_count": null,
      "outputs": []
    },
    {
      "cell_type": "code",
      "metadata": {
        "id": "ksyWvH_LcXYi"
      },
      "source": [
        "# splitting dataset into training and testing set\n",
        "X_train, X_test, y_train, y_test = train_test_split(X, y, test_size=0.2, random_state=0)"
      ],
      "execution_count": null,
      "outputs": []
    },
    {
      "cell_type": "code",
      "metadata": {
        "colab": {
          "base_uri": "https://localhost:8080/"
        },
        "id": "Q6i1IP2ocvG5",
        "outputId": "83950d46-fd12-4f8f-e333-cf464528d03d"
      },
      "source": [
        "# deep learning model\n",
        "from sklearn.svm import LinearSVC\n",
        "classifier = LinearSVC()\n",
        "classifier.fit(X_train, y_train)"
      ],
      "execution_count": null,
      "outputs": [
        {
          "output_type": "execute_result",
          "data": {
            "text/plain": [
              "LinearSVC(C=1.0, class_weight=None, dual=True, fit_intercept=True,\n",
              "          intercept_scaling=1, loss='squared_hinge', max_iter=1000,\n",
              "          multi_class='ovr', penalty='l2', random_state=None, tol=0.0001,\n",
              "          verbose=0)"
            ]
          },
          "metadata": {
            "tags": []
          },
          "execution_count": 23
        }
      ]
    },
    {
      "cell_type": "code",
      "metadata": {
        "colab": {
          "base_uri": "https://localhost:8080/"
        },
        "id": "c516uNv4c5ZR",
        "outputId": "433921b0-cd24-44ae-f887-2ee53b20f517"
      },
      "source": [
        "y_pred = classifier.predict(X_test)\n",
        "y_pred[:5]"
      ],
      "execution_count": null,
      "outputs": [
        {
          "output_type": "execute_result",
          "data": {
            "text/plain": [
              "array([0, 2, 2, 0, 2])"
            ]
          },
          "metadata": {
            "tags": []
          },
          "execution_count": 24
        }
      ]
    },
    {
      "cell_type": "code",
      "metadata": {
        "colab": {
          "base_uri": "https://localhost:8080/",
          "height": 456
        },
        "id": "DLE5SHfUdCDZ",
        "outputId": "4aa1a6ef-b377-4438-ec1b-46f2c61c84cb"
      },
      "source": [
        "# confusion matrix and accuracy score\n",
        "from sklearn.metrics import confusion_matrix, classification_report, accuracy_score\n",
        "acc = accuracy_score(y_pred, y_test)\n",
        "report = classification_report(y_pred, y_test)\n",
        "cm = confusion_matrix(y_pred,y_test)\n",
        "sns.heatmap(cm, annot=True)\n",
        "print(report)\n",
        "print(\"Accuracy Score of SVC:\", acc*100,\"%\")"
      ],
      "execution_count": null,
      "outputs": [
        {
          "output_type": "stream",
          "text": [
            "              precision    recall  f1-score   support\n",
            "\n",
            "           0       0.87      0.76      0.81        94\n",
            "           1       0.02      0.33      0.04         3\n",
            "           2       0.94      0.73      0.82       127\n",
            "\n",
            "    accuracy                           0.74       224\n",
            "   macro avg       0.61      0.61      0.56       224\n",
            "weighted avg       0.90      0.74      0.81       224\n",
            "\n",
            "Accuracy Score of SVC: 73.66071428571429 %\n"
          ],
          "name": "stdout"
        },
        {
          "output_type": "display_data",
          "data": {
            "image/png": "[encoded data removed]",
            "text/plain": [
              "<Figure size 432x288 with 2 Axes>"
            ]
          },
          "metadata": {
            "tags": [],
            "needs_background": "light"
          }
        }
      ]
    },
    {
      "cell_type": "code",
      "metadata": {
        "id": "1JB5_GXOd3FZ"
      },
      "source": [
        "from sklearn.feature_extraction.text import TfidfVectorizer\n",
        "from sklearn.naive_bayes import BernoulliNB\n",
        "from sklearn import svm\n",
        "from sklearn.metrics import classification_report\n",
        "from sklearn.metrics import accuracy_score"
      ],
      "execution_count": null,
      "outputs": []
    },
    {
      "cell_type": "code",
      "metadata": {
        "id": "5MI5QuESduW5"
      },
      "source": [
        "# Perform classification with MultinomialNB\n",
        "clf = BernoulliNB()\n",
        "clf.fit(X_train, y_train)\n",
        "prediction = clf.predict(X_test)\n",
        "\n",
        "# Perform classification with SVM, kernel=rbf\n",
        "classifier_rbf = svm.SVC()\n",
        "classifier_rbf.fit(X_train, y_train)\n",
        "prediction_rbf = classifier_rbf.predict(X_test)\n",
        "    \n",
        "# Perform classification with SVM, kernel=linear\n",
        "classifier_linear = svm.SVC(kernel='linear')\n",
        "classifier_linear.fit(X_train, y_train)\n",
        "prediction_linear = classifier_linear.predict(X_test)\n",
        "  \n",
        "# Perform classification with SVM, kernel=linear\n",
        "classifier_liblinear = svm.LinearSVC(max_iter=10000)\n",
        "classifier_liblinear.fit(X_train, y_train)\n",
        "prediction_liblinear = classifier_liblinear.predict(X_test)"
      ],
      "execution_count": null,
      "outputs": []
    },
    {
      "cell_type": "code",
      "metadata": {
        "colab": {
          "base_uri": "https://localhost:8080/"
        },
        "id": "RhGBbTEWd7iA",
        "outputId": "1bb784e6-4384-4cf6-fa2a-b7df8b26164c"
      },
      "source": [
        "# Print results in a nice table for MultinomialNB\n",
        "print(\"\\nResults for NaiveBayes (MultinomialNB) \")\n",
        "print( classification_report(prediction, y_test))\n",
        "print( str(accuracy_score(prediction, y_test)))\n",
        "\n"
      ],
      "execution_count": null,
      "outputs": [
        {
          "output_type": "stream",
          "text": [
            "\n",
            "Results for NaiveBayes (MultinomialNB) \n",
            "              precision    recall  f1-score   support\n",
            "\n",
            "           0       0.96      0.59      0.73       133\n",
            "           1       0.00      0.00      0.00         3\n",
            "           2       0.74      0.83      0.78        88\n",
            "\n",
            "    accuracy                           0.68       224\n",
            "   macro avg       0.57      0.47      0.51       224\n",
            "weighted avg       0.86      0.68      0.74       224\n",
            "\n",
            "0.6785714285714286\n"
          ],
          "name": "stdout"
        }
      ]
    },
    {
      "cell_type": "code",
      "metadata": {
        "colab": {
          "base_uri": "https://localhost:8080/"
        },
        "id": "KIvL3QmOeDFY",
        "outputId": "99e213d0-9cc6-4c06-9114-9311722e36f9"
      },
      "source": [
        "# Print results in a nice table for MultinomialNB\n",
        "print(\"\\nResults for NaiveBayes (MultinomialNB) \")\n",
        "print( classification_report(prediction_rbf, y_test))\n",
        "print( str(accuracy_score(prediction_rbf, y_test)))"
      ],
      "execution_count": null,
      "outputs": [
        {
          "output_type": "stream",
          "text": [
            "\n",
            "Results for NaiveBayes (MultinomialNB) \n",
            "              precision    recall  f1-score   support\n",
            "\n",
            "           0       0.62      0.84      0.71        61\n",
            "           1       0.02      1.00      0.05         1\n",
            "           2       0.95      0.58      0.72       162\n",
            "\n",
            "    accuracy                           0.65       224\n",
            "   macro avg       0.53      0.81      0.49       224\n",
            "weighted avg       0.86      0.65      0.72       224\n",
            "\n",
            "0.6517857142857143\n"
          ],
          "name": "stdout"
        }
      ]
    },
    {
      "cell_type": "code",
      "metadata": {
        "colab": {
          "base_uri": "https://localhost:8080/"
        },
        "id": "JaZFenk6eN2B",
        "outputId": "fd8aab3f-e800-4ab6-8e7d-599b3ba566a2"
      },
      "source": [
        "# Print results in a nice table for MultinomialNB\n",
        "print(\"\\nResults for NaiveBayes (MultinomialNB) \")\n",
        "print( classification_report(prediction_linear, y_test))\n",
        "print( str(accuracy_score(prediction_linear, y_test)))"
      ],
      "execution_count": null,
      "outputs": [
        {
          "output_type": "stream",
          "text": [
            "\n",
            "Results for NaiveBayes (MultinomialNB) \n",
            "              precision    recall  f1-score   support\n",
            "\n",
            "           0       0.88      0.76      0.81        95\n",
            "           1       0.02      0.50      0.04         2\n",
            "           2       0.93      0.72      0.81       127\n",
            "\n",
            "    accuracy                           0.74       224\n",
            "   macro avg       0.61      0.66      0.56       224\n",
            "weighted avg       0.90      0.74      0.81       224\n",
            "\n",
            "0.7366071428571429\n"
          ],
          "name": "stdout"
        }
      ]
    },
    {
      "cell_type": "code",
      "metadata": {
        "colab": {
          "base_uri": "https://localhost:8080/"
        },
        "id": "G_vHPUMveRSQ",
        "outputId": "64997267-bf9d-4902-fa39-20ae0090e924"
      },
      "source": [
        "# Print results in a nice table for MultinomialNB\n",
        "print(\"\\nResults for NaiveBayes (MultinomialNB) \")\n",
        "print( classification_report(prediction_liblinear, y_test))\n",
        "print( str(accuracy_score(prediction_liblinear, y_test)))"
      ],
      "execution_count": null,
      "outputs": [
        {
          "output_type": "stream",
          "text": [
            "\n",
            "Results for NaiveBayes (MultinomialNB) \n",
            "              precision    recall  f1-score   support\n",
            "\n",
            "           0       0.87      0.76      0.81        94\n",
            "           1       0.02      0.33      0.04         3\n",
            "           2       0.94      0.73      0.82       127\n",
            "\n",
            "    accuracy                           0.74       224\n",
            "   macro avg       0.61      0.61      0.56       224\n",
            "weighted avg       0.90      0.74      0.81       224\n",
            "\n",
            "0.7366071428571429\n"
          ],
          "name": "stdout"
        }
      ]
    }
  ]
}